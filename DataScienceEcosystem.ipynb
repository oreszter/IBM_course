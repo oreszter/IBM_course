{
 "cells": [
  {
   "cell_type": "markdown",
   "id": "3087a142",
   "metadata": {},
   "source": [
    "# Data Science Tools and Ecosystem"
   ]
  },
  {
   "cell_type": "markdown",
   "id": "bcc27eef",
   "metadata": {},
   "source": [
    "### In this notebook, Data Science Tools and Ecosystem are summarized."
   ]
  },
  {
   "cell_type": "markdown",
   "id": "3e822701",
   "metadata": {},
   "source": [
    "**Objectives**\n",
    "+ Overwiev of Data Science Tools\n",
    "+ Languages of Data Science\n",
    "+ Packages, API-s, Data sets and Models used by Data Scientists\n"
   ]
  },
  {
   "cell_type": "markdown",
   "id": "c8737921",
   "metadata": {},
   "source": [
    "#### Some of the popular languages that Data Scientists use are:"
   ]
  },
  {
   "cell_type": "markdown",
   "id": "843d44b3",
   "metadata": {},
   "source": [
    "1. Python\n",
    "2. R\n",
    "3. Java\n",
    "4. SQL\n",
    "5. Julia\n"
   ]
  },
  {
   "cell_type": "markdown",
   "id": "27ff6962",
   "metadata": {},
   "source": [
    "#### Some of the commonly used libraries used by Data Scientists include:"
   ]
  },
  {
   "cell_type": "markdown",
   "id": "c93e0c71",
   "metadata": {},
   "source": [
    "1. Numpy\n",
    "2. Pandas\n",
    "3. dplyr\n",
    "4. Breeze\n",
    "5. TensorFlow"
   ]
  },
  {
   "cell_type": "markdown",
   "id": "f5015f9c",
   "metadata": {},
   "source": [
    "| Data Science Tools |\n",
    "| --------|\n",
    "| Jupiter Notebooks |\n",
    "| R Studio |\n",
    "| Hadoop |\n",
    "| Spark |\n",
    "| Pandas |\n",
    "| Weka |\n"
   ]
  },
  {
   "cell_type": "markdown",
   "id": "c0a9e723",
   "metadata": {},
   "source": [
    "### Below are a few examples of evaluating arithmetic expressions in Python"
   ]
  },
  {
   "cell_type": "code",
   "execution_count": 2,
   "id": "3ad82f0f",
   "metadata": {},
   "outputs": [
    {
     "data": {
      "text/plain": [
       "17"
      ]
     },
     "execution_count": 2,
     "metadata": {},
     "output_type": "execute_result"
    }
   ],
   "source": [
    "# This a simple arithmetic expression to mutiply then add integers\n",
    "(3*4)+5"
   ]
  },
  {
   "cell_type": "code",
   "execution_count": 5,
   "id": "e718595b",
   "metadata": {},
   "outputs": [
    {
     "name": "stdout",
     "output_type": "stream",
     "text": [
      "3.3333333333333335\n"
     ]
    }
   ],
   "source": [
    "# This will convert 200 minutes to hours by diving by 60\n",
    "minutes = 200\n",
    "hours = minutes / 60\n",
    "print(hours)\n"
   ]
  },
  {
   "cell_type": "markdown",
   "id": "e3c48e1d",
   "metadata": {},
   "source": [
    "## Author\n",
    "Eszter"
   ]
  },
  {
   "cell_type": "code",
   "execution_count": null,
   "id": "a95098dd",
   "metadata": {},
   "outputs": [],
   "source": []
  }
 ],
 "metadata": {
  "kernelspec": {
   "display_name": "Python 3 (ipykernel)",
   "language": "python",
   "name": "python3"
  },
  "language_info": {
   "codemirror_mode": {
    "name": "ipython",
    "version": 3
   },
   "file_extension": ".py",
   "mimetype": "text/x-python",
   "name": "python",
   "nbconvert_exporter": "python",
   "pygments_lexer": "ipython3",
   "version": "3.11.5"
  }
 },
 "nbformat": 4,
 "nbformat_minor": 5
}
